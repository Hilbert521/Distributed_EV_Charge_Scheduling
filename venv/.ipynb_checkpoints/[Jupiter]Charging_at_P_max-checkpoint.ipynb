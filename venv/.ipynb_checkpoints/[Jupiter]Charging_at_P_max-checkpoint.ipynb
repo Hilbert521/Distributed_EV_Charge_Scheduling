{
 "cells": [
  {
   "cell_type": "markdown",
   "metadata": {
    "collapsed": true
   },
   "source": [
    "## Problem of Stochastic Distributed EV Scheduling"
   ]
  },
  {
   "cell_type": "markdown",
   "metadata": {},
   "source": [
    "### Objective 1 : Minimizing Load Variance"
   ]
  },
  {
   "cell_type": "markdown",
   "metadata": {},
   "source": [
    "Find $t^{start}$  that Minimize, "
   ]
  },
  {
   "cell_type": "markdown",
   "metadata": {},
   "source": [
    "$\\sum_{t=1}^T ( B(t) + P(t) )^2$\n",
    " ---------------- (1)\n",
    "\n",
    "Subjected to,\n",
    " \n",
    "P(t) = P^max^    -------------- (2)       ;  for t belongs to [ t^start^ , t^finish^ ]\n",
    "\n",
    "P(t) = 0      -------------- (3)          ;  for t not belongs to [ t^start^ , t^finish^ ]\n",
    "\n",
    "t^finish^ - t^start^ = t^length^ -------------- (4)\n",
    "\n",
    "t^plugin^ <= t^start^ <= t^finish^ - t^length^  -------------- (5)\n",
    "\n",
    "t^dead^ - t^plugin^ - t^length^ >= 0 -------------- (6)\n",
    "\n",
    "$[ \\frac{( SOC^dep^ - SOC^arr^ ) * Cap}{{\\alpha}*P^max^*{\\delta}t} ]$\n",
    "\n",
    "\n"
   ]
  },
  {
   "cell_type": "markdown",
   "metadata": {},
   "source": []
  },
  {
   "cell_type": "markdown",
   "metadata": {},
   "source": [
    "$$[ \\frac{(SOC^dep^ - SOC^arr^) * Cap}{{\\alpha}*P^max^*{\\delta}t} ]$$"
   ]
  },
  {
   "cell_type": "code",
   "execution_count": null,
   "metadata": {},
   "outputs": [],
   "source": []
  }
 ],
 "metadata": {
  "kernelspec": {
   "display_name": "Python 3",
   "language": "python",
   "name": "python3"
  },
  "language_info": {
   "codemirror_mode": {
    "name": "ipython",
    "version": 3
   },
   "file_extension": ".py",
   "mimetype": "text/x-python",
   "name": "python",
   "nbconvert_exporter": "python",
   "pygments_lexer": "ipython3",
   "version": "3.6.5"
  }
 },
 "nbformat": 4,
 "nbformat_minor": 1
}
